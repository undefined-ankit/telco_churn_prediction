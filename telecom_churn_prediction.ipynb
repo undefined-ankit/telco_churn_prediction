{
  "nbformat": 4,
  "nbformat_minor": 0,
  "metadata": {
    "colab": {
      "name": "telecom_churn_prediction.ipynb",
      "provenance": [],
      "collapsed_sections": [],
      "authorship_tag": "ABX9TyOba4+cDaFkD45sgD0IzYb7",
      "include_colab_link": true
    },
    "kernelspec": {
      "name": "python3",
      "display_name": "Python 3"
    },
    "language_info": {
      "name": "python"
    }
  },
  "cells": [
    {
      "cell_type": "markdown",
      "metadata": {
        "id": "view-in-github",
        "colab_type": "text"
      },
      "source": [
        "<a href=\"https://colab.research.google.com/github/undefined-ankit/teleco_churn_prediction/blob/main/telecom_churn_prediction.ipynb\" target=\"_parent\"><img src=\"https://colab.research.google.com/assets/colab-badge.svg\" alt=\"Open In Colab\"/></a>"
      ]
    },
    {
      "cell_type": "code",
      "metadata": {
        "colab": {
          "base_uri": "https://localhost:8080/"
        },
        "id": "2FlhherlcBB8",
        "outputId": "06aadb55-10bd-4c5e-d08e-6a32578efa40"
      },
      "source": [
        "from google.colab import drive\n",
        "drive.mount('/content/drive')"
      ],
      "execution_count": 51,
      "outputs": [
        {
          "output_type": "stream",
          "name": "stdout",
          "text": [
            "Drive already mounted at /content/drive; to attempt to forcibly remount, call drive.mount(\"/content/drive\", force_remount=True).\n"
          ]
        }
      ]
    },
    {
      "cell_type": "code",
      "metadata": {
        "id": "_TlfjE9RcSce"
      },
      "source": [
        "import pandas as pd\n",
        "import numpy as np\n",
        "data = pd.read_csv(\"/content/drive/My Drive/datasets/Customer-Churn.csv\")"
      ],
      "execution_count": 52,
      "outputs": []
    },
    {
      "cell_type": "code",
      "metadata": {
        "colab": {
          "base_uri": "https://localhost:8080/"
        },
        "id": "KwtbY7g2c1Tr",
        "outputId": "04da73b3-7d98-48fb-fa92-a1cd681a85ec"
      },
      "source": [
        "data.shape"
      ],
      "execution_count": 53,
      "outputs": [
        {
          "output_type": "execute_result",
          "data": {
            "text/plain": [
              "(7043, 21)"
            ]
          },
          "metadata": {},
          "execution_count": 53
        }
      ]
    },
    {
      "cell_type": "markdown",
      "metadata": {
        "id": "gBzEs8TldY1q"
      },
      "source": [
        "## **Data Cleaning**"
      ]
    },
    {
      "cell_type": "code",
      "metadata": {
        "colab": {
          "base_uri": "https://localhost:8080/"
        },
        "id": "GmHiYfU7c3mu",
        "outputId": "ced6167b-dbe8-40a5-a974-258dc2001088"
      },
      "source": [
        "data.shape"
      ],
      "execution_count": 54,
      "outputs": [
        {
          "output_type": "execute_result",
          "data": {
            "text/plain": [
              "(7043, 21)"
            ]
          },
          "metadata": {},
          "execution_count": 54
        }
      ]
    },
    {
      "cell_type": "code",
      "metadata": {
        "id": "dkxtjVi6dehH"
      },
      "source": [
        "# customerID does not require for our prediction\n",
        "data.drop('customerID',axis='columns',inplace=True)"
      ],
      "execution_count": 55,
      "outputs": []
    },
    {
      "cell_type": "code",
      "metadata": {
        "id": "XBqgWvZGeK-b"
      },
      "source": [
        "def unique_values(data):\n",
        "  ''' function for printing the unique values in a column\n",
        "  '''\n",
        "  for col in data:\n",
        "    print(f'{col}: {data[col].unique()}')"
      ],
      "execution_count": 56,
      "outputs": []
    },
    {
      "cell_type": "code",
      "metadata": {
        "id": "UHhIW-0JfTNG"
      },
      "source": [
        "#total cherges are object type we have to convert it into numeric type\n",
        "data[pd.to_numeric(data.TotalCharges,errors='coerce').isnull()]\n",
        "# we have to drop null values from datasets\n",
        "data1 = data[data['TotalCharges']!=' ']"
      ],
      "execution_count": 57,
      "outputs": []
    },
    {
      "cell_type": "code",
      "metadata": {
        "colab": {
          "base_uri": "https://localhost:8080/"
        },
        "id": "5_M6M0Cnfvl1",
        "outputId": "0c6a328e-ebff-41d5-809d-62a75540a9db"
      },
      "source": [
        "data1['TotalCharges'] = pd.to_numeric(data1.TotalCharges) # we have converted TotalCharges type from str to float"
      ],
      "execution_count": 58,
      "outputs": [
        {
          "output_type": "stream",
          "name": "stderr",
          "text": [
            "/usr/local/lib/python3.7/dist-packages/ipykernel_launcher.py:1: SettingWithCopyWarning: \n",
            "A value is trying to be set on a copy of a slice from a DataFrame.\n",
            "Try using .loc[row_indexer,col_indexer] = value instead\n",
            "\n",
            "See the caveats in the documentation: https://pandas.pydata.org/pandas-docs/stable/user_guide/indexing.html#returning-a-view-versus-a-copy\n",
            "  \"\"\"Entry point for launching an IPython kernel.\n"
          ]
        }
      ]
    },
    {
      "cell_type": "code",
      "metadata": {
        "colab": {
          "base_uri": "https://localhost:8080/"
        },
        "id": "gMzbyy7Bgx_8",
        "outputId": "c5768343-7d7e-48c9-bae3-8f6c7207c0b4"
      },
      "source": [
        "data1.dtypes"
      ],
      "execution_count": 59,
      "outputs": [
        {
          "output_type": "execute_result",
          "data": {
            "text/plain": [
              "gender               object\n",
              "SeniorCitizen         int64\n",
              "Partner              object\n",
              "Dependents           object\n",
              "tenure                int64\n",
              "PhoneService         object\n",
              "MultipleLines        object\n",
              "InternetService      object\n",
              "OnlineSecurity       object\n",
              "OnlineBackup         object\n",
              "DeviceProtection     object\n",
              "TechSupport          object\n",
              "StreamingTV          object\n",
              "StreamingMovies      object\n",
              "Contract             object\n",
              "PaperlessBilling     object\n",
              "PaymentMethod        object\n",
              "MonthlyCharges      float64\n",
              "TotalCharges        float64\n",
              "Churn                object\n",
              "dtype: object"
            ]
          },
          "metadata": {},
          "execution_count": 59
        }
      ]
    },
    {
      "cell_type": "code",
      "metadata": {
        "colab": {
          "base_uri": "https://localhost:8080/"
        },
        "id": "NNE_XGCchNDo",
        "outputId": "f21bdb8d-66b8-46ee-f284-a265f01cde81"
      },
      "source": [
        "unique_values(data1)"
      ],
      "execution_count": 60,
      "outputs": [
        {
          "output_type": "stream",
          "name": "stdout",
          "text": [
            "gender: ['Female' 'Male']\n",
            "SeniorCitizen: [0 1]\n",
            "Partner: ['Yes' 'No']\n",
            "Dependents: ['No' 'Yes']\n",
            "tenure: [ 1 34  2 45  8 22 10 28 62 13 16 58 49 25 69 52 71 21 12 30 47 72 17 27\n",
            "  5 46 11 70 63 43 15 60 18 66  9  3 31 50 64 56  7 42 35 48 29 65 38 68\n",
            " 32 55 37 36 41  6  4 33 67 23 57 61 14 20 53 40 59 24 44 19 54 51 26 39]\n",
            "PhoneService: ['No' 'Yes']\n",
            "MultipleLines: ['No phone service' 'No' 'Yes']\n",
            "InternetService: ['DSL' 'Fiber optic' 'No']\n",
            "OnlineSecurity: ['No' 'Yes' 'No internet service']\n",
            "OnlineBackup: ['Yes' 'No' 'No internet service']\n",
            "DeviceProtection: ['No' 'Yes' 'No internet service']\n",
            "TechSupport: ['No' 'Yes' 'No internet service']\n",
            "StreamingTV: ['No' 'Yes' 'No internet service']\n",
            "StreamingMovies: ['No' 'Yes' 'No internet service']\n",
            "Contract: ['Month-to-month' 'One year' 'Two year']\n",
            "PaperlessBilling: ['Yes' 'No']\n",
            "PaymentMethod: ['Electronic check' 'Mailed check' 'Bank transfer (automatic)'\n",
            " 'Credit card (automatic)']\n",
            "MonthlyCharges: [29.85 56.95 53.85 ... 63.1  44.2  78.7 ]\n",
            "TotalCharges: [  29.85 1889.5   108.15 ...  346.45  306.6  6844.5 ]\n",
            "Churn: ['No' 'Yes']\n"
          ]
        }
      ]
    },
    {
      "cell_type": "code",
      "metadata": {
        "colab": {
          "base_uri": "https://localhost:8080/"
        },
        "id": "uO7X45SIjNR9",
        "outputId": "d15ab8bf-06e9-4843-84c1-20dfb81c7aa5"
      },
      "source": [
        "# some replacement required like\n",
        "data1.replace('No phone service','No',inplace=True)\n",
        "data1.replace('No internet service','No',inplace=True)\n"
      ],
      "execution_count": 61,
      "outputs": [
        {
          "output_type": "stream",
          "name": "stderr",
          "text": [
            "/usr/local/lib/python3.7/dist-packages/pandas/core/frame.py:4389: SettingWithCopyWarning: \n",
            "A value is trying to be set on a copy of a slice from a DataFrame\n",
            "\n",
            "See the caveats in the documentation: https://pandas.pydata.org/pandas-docs/stable/user_guide/indexing.html#returning-a-view-versus-a-copy\n",
            "  method=method,\n"
          ]
        }
      ]
    },
    {
      "cell_type": "code",
      "metadata": {
        "colab": {
          "base_uri": "https://localhost:8080/"
        },
        "id": "9WGlJK3Mjj8V",
        "outputId": "11e9368e-d26c-4f75-fa5a-2466ebd61662"
      },
      "source": [
        "unique_values(data1)"
      ],
      "execution_count": 62,
      "outputs": [
        {
          "output_type": "stream",
          "name": "stdout",
          "text": [
            "gender: ['Female' 'Male']\n",
            "SeniorCitizen: [0 1]\n",
            "Partner: ['Yes' 'No']\n",
            "Dependents: ['No' 'Yes']\n",
            "tenure: [ 1 34  2 45  8 22 10 28 62 13 16 58 49 25 69 52 71 21 12 30 47 72 17 27\n",
            "  5 46 11 70 63 43 15 60 18 66  9  3 31 50 64 56  7 42 35 48 29 65 38 68\n",
            " 32 55 37 36 41  6  4 33 67 23 57 61 14 20 53 40 59 24 44 19 54 51 26 39]\n",
            "PhoneService: ['No' 'Yes']\n",
            "MultipleLines: ['No' 'Yes']\n",
            "InternetService: ['DSL' 'Fiber optic' 'No']\n",
            "OnlineSecurity: ['No' 'Yes']\n",
            "OnlineBackup: ['Yes' 'No']\n",
            "DeviceProtection: ['No' 'Yes']\n",
            "TechSupport: ['No' 'Yes']\n",
            "StreamingTV: ['No' 'Yes']\n",
            "StreamingMovies: ['No' 'Yes']\n",
            "Contract: ['Month-to-month' 'One year' 'Two year']\n",
            "PaperlessBilling: ['Yes' 'No']\n",
            "PaymentMethod: ['Electronic check' 'Mailed check' 'Bank transfer (automatic)'\n",
            " 'Credit card (automatic)']\n",
            "MonthlyCharges: [29.85 56.95 53.85 ... 63.1  44.2  78.7 ]\n",
            "TotalCharges: [  29.85 1889.5   108.15 ...  346.45  306.6  6844.5 ]\n",
            "Churn: ['No' 'Yes']\n"
          ]
        }
      ]
    },
    {
      "cell_type": "code",
      "metadata": {
        "colab": {
          "base_uri": "https://localhost:8080/"
        },
        "id": "ejAdiRyYheZa",
        "outputId": "428f0ef1-f040-4fcf-cb8c-25eb5a504a71"
      },
      "source": [
        "#model uses numeric values for processing so we will convert yes/no by 1/0\n",
        "yes_no_cols = ['Partner','Dependents','PhoneService','MultipleLines','OnlineSecurity','OnlineBackup','DeviceProtection','TechSupport','StreamingTV','PaperlessBilling','Churn']\n",
        "for i in yes_no_cols:\n",
        "  data1.replace({'Yes':1,'No':0},inplace = True)"
      ],
      "execution_count": 63,
      "outputs": [
        {
          "output_type": "stream",
          "name": "stderr",
          "text": [
            "/usr/local/lib/python3.7/dist-packages/pandas/core/frame.py:4389: SettingWithCopyWarning: \n",
            "A value is trying to be set on a copy of a slice from a DataFrame\n",
            "\n",
            "See the caveats in the documentation: https://pandas.pydata.org/pandas-docs/stable/user_guide/indexing.html#returning-a-view-versus-a-copy\n",
            "  method=method,\n"
          ]
        }
      ]
    },
    {
      "cell_type": "code",
      "metadata": {
        "colab": {
          "base_uri": "https://localhost:8080/"
        },
        "id": "HtAg1LG5j48Z",
        "outputId": "34bd0a50-498d-4105-c259-c608cf88c0d0"
      },
      "source": [
        "unique_values(data1)"
      ],
      "execution_count": 64,
      "outputs": [
        {
          "output_type": "stream",
          "name": "stdout",
          "text": [
            "gender: ['Female' 'Male']\n",
            "SeniorCitizen: [0 1]\n",
            "Partner: [1 0]\n",
            "Dependents: [0 1]\n",
            "tenure: [ 1 34  2 45  8 22 10 28 62 13 16 58 49 25 69 52 71 21 12 30 47 72 17 27\n",
            "  5 46 11 70 63 43 15 60 18 66  9  3 31 50 64 56  7 42 35 48 29 65 38 68\n",
            " 32 55 37 36 41  6  4 33 67 23 57 61 14 20 53 40 59 24 44 19 54 51 26 39]\n",
            "PhoneService: [0 1]\n",
            "MultipleLines: [0 1]\n",
            "InternetService: ['DSL' 'Fiber optic' 0]\n",
            "OnlineSecurity: [0 1]\n",
            "OnlineBackup: [1 0]\n",
            "DeviceProtection: [0 1]\n",
            "TechSupport: [0 1]\n",
            "StreamingTV: [0 1]\n",
            "StreamingMovies: [0 1]\n",
            "Contract: ['Month-to-month' 'One year' 'Two year']\n",
            "PaperlessBilling: [1 0]\n",
            "PaymentMethod: ['Electronic check' 'Mailed check' 'Bank transfer (automatic)'\n",
            " 'Credit card (automatic)']\n",
            "MonthlyCharges: [29.85 56.95 53.85 ... 63.1  44.2  78.7 ]\n",
            "TotalCharges: [  29.85 1889.5   108.15 ...  346.45  306.6  6844.5 ]\n",
            "Churn: [0 1]\n"
          ]
        }
      ]
    },
    {
      "cell_type": "code",
      "metadata": {
        "colab": {
          "base_uri": "https://localhost:8080/"
        },
        "id": "SDbu0Tomj74l",
        "outputId": "1facf902-43f3-4cd7-c411-ad82b4bf7665"
      },
      "source": [
        "#replace male/female by 1/0\n",
        "data1.gender.replace({'Female':0,'Male':1},inplace=True)"
      ],
      "execution_count": 65,
      "outputs": [
        {
          "output_type": "stream",
          "name": "stderr",
          "text": [
            "/usr/local/lib/python3.7/dist-packages/pandas/core/series.py:4582: SettingWithCopyWarning: \n",
            "A value is trying to be set on a copy of a slice from a DataFrame\n",
            "\n",
            "See the caveats in the documentation: https://pandas.pydata.org/pandas-docs/stable/user_guide/indexing.html#returning-a-view-versus-a-copy\n",
            "  method=method,\n"
          ]
        }
      ]
    },
    {
      "cell_type": "code",
      "metadata": {
        "id": "e22HDueEkaPz"
      },
      "source": [
        "#we have to convert categorical values to numerical columns by one-hot encoding for processing.\n",
        "data2 = pd.get_dummies(data=data1,columns= ['InternetService','Contract','PaymentMethod'])\n"
      ],
      "execution_count": 66,
      "outputs": []
    },
    {
      "cell_type": "markdown",
      "metadata": {
        "id": "KapJRQwDlppz"
      },
      "source": [
        "**Now our data is cleaned and ready to process but some columns do not have values in same range. So, we need to scale those value for better fit.**"
      ]
    },
    {
      "cell_type": "code",
      "metadata": {
        "colab": {
          "base_uri": "https://localhost:8080/",
          "height": 261
        },
        "id": "CFCUb0FWllS7",
        "outputId": "d883fadf-4f3f-411e-f698-505f7887cd0f"
      },
      "source": [
        "data2.sample(5)"
      ],
      "execution_count": 67,
      "outputs": [
        {
          "output_type": "execute_result",
          "data": {
            "text/html": [
              "<div>\n",
              "<style scoped>\n",
              "    .dataframe tbody tr th:only-of-type {\n",
              "        vertical-align: middle;\n",
              "    }\n",
              "\n",
              "    .dataframe tbody tr th {\n",
              "        vertical-align: top;\n",
              "    }\n",
              "\n",
              "    .dataframe thead th {\n",
              "        text-align: right;\n",
              "    }\n",
              "</style>\n",
              "<table border=\"1\" class=\"dataframe\">\n",
              "  <thead>\n",
              "    <tr style=\"text-align: right;\">\n",
              "      <th></th>\n",
              "      <th>gender</th>\n",
              "      <th>SeniorCitizen</th>\n",
              "      <th>Partner</th>\n",
              "      <th>Dependents</th>\n",
              "      <th>tenure</th>\n",
              "      <th>PhoneService</th>\n",
              "      <th>MultipleLines</th>\n",
              "      <th>OnlineSecurity</th>\n",
              "      <th>OnlineBackup</th>\n",
              "      <th>DeviceProtection</th>\n",
              "      <th>TechSupport</th>\n",
              "      <th>StreamingTV</th>\n",
              "      <th>StreamingMovies</th>\n",
              "      <th>PaperlessBilling</th>\n",
              "      <th>MonthlyCharges</th>\n",
              "      <th>TotalCharges</th>\n",
              "      <th>Churn</th>\n",
              "      <th>InternetService_0</th>\n",
              "      <th>InternetService_DSL</th>\n",
              "      <th>InternetService_Fiber optic</th>\n",
              "      <th>Contract_Month-to-month</th>\n",
              "      <th>Contract_One year</th>\n",
              "      <th>Contract_Two year</th>\n",
              "      <th>PaymentMethod_Bank transfer (automatic)</th>\n",
              "      <th>PaymentMethod_Credit card (automatic)</th>\n",
              "      <th>PaymentMethod_Electronic check</th>\n",
              "      <th>PaymentMethod_Mailed check</th>\n",
              "    </tr>\n",
              "  </thead>\n",
              "  <tbody>\n",
              "    <tr>\n",
              "      <th>6429</th>\n",
              "      <td>1</td>\n",
              "      <td>0</td>\n",
              "      <td>1</td>\n",
              "      <td>1</td>\n",
              "      <td>67</td>\n",
              "      <td>1</td>\n",
              "      <td>1</td>\n",
              "      <td>1</td>\n",
              "      <td>1</td>\n",
              "      <td>1</td>\n",
              "      <td>1</td>\n",
              "      <td>0</td>\n",
              "      <td>0</td>\n",
              "      <td>1</td>\n",
              "      <td>69.35</td>\n",
              "      <td>4653.25</td>\n",
              "      <td>0</td>\n",
              "      <td>0</td>\n",
              "      <td>1</td>\n",
              "      <td>0</td>\n",
              "      <td>0</td>\n",
              "      <td>1</td>\n",
              "      <td>0</td>\n",
              "      <td>0</td>\n",
              "      <td>1</td>\n",
              "      <td>0</td>\n",
              "      <td>0</td>\n",
              "    </tr>\n",
              "    <tr>\n",
              "      <th>3280</th>\n",
              "      <td>1</td>\n",
              "      <td>0</td>\n",
              "      <td>1</td>\n",
              "      <td>0</td>\n",
              "      <td>55</td>\n",
              "      <td>1</td>\n",
              "      <td>0</td>\n",
              "      <td>1</td>\n",
              "      <td>1</td>\n",
              "      <td>1</td>\n",
              "      <td>0</td>\n",
              "      <td>0</td>\n",
              "      <td>0</td>\n",
              "      <td>0</td>\n",
              "      <td>58.60</td>\n",
              "      <td>3068.60</td>\n",
              "      <td>0</td>\n",
              "      <td>0</td>\n",
              "      <td>1</td>\n",
              "      <td>0</td>\n",
              "      <td>0</td>\n",
              "      <td>0</td>\n",
              "      <td>1</td>\n",
              "      <td>0</td>\n",
              "      <td>0</td>\n",
              "      <td>1</td>\n",
              "      <td>0</td>\n",
              "    </tr>\n",
              "    <tr>\n",
              "      <th>3261</th>\n",
              "      <td>0</td>\n",
              "      <td>0</td>\n",
              "      <td>1</td>\n",
              "      <td>1</td>\n",
              "      <td>68</td>\n",
              "      <td>1</td>\n",
              "      <td>0</td>\n",
              "      <td>1</td>\n",
              "      <td>1</td>\n",
              "      <td>1</td>\n",
              "      <td>1</td>\n",
              "      <td>1</td>\n",
              "      <td>1</td>\n",
              "      <td>1</td>\n",
              "      <td>85.00</td>\n",
              "      <td>5607.75</td>\n",
              "      <td>0</td>\n",
              "      <td>0</td>\n",
              "      <td>1</td>\n",
              "      <td>0</td>\n",
              "      <td>0</td>\n",
              "      <td>0</td>\n",
              "      <td>1</td>\n",
              "      <td>0</td>\n",
              "      <td>1</td>\n",
              "      <td>0</td>\n",
              "      <td>0</td>\n",
              "    </tr>\n",
              "    <tr>\n",
              "      <th>41</th>\n",
              "      <td>0</td>\n",
              "      <td>0</td>\n",
              "      <td>1</td>\n",
              "      <td>1</td>\n",
              "      <td>70</td>\n",
              "      <td>1</td>\n",
              "      <td>1</td>\n",
              "      <td>1</td>\n",
              "      <td>1</td>\n",
              "      <td>0</td>\n",
              "      <td>0</td>\n",
              "      <td>1</td>\n",
              "      <td>0</td>\n",
              "      <td>1</td>\n",
              "      <td>69.20</td>\n",
              "      <td>4872.35</td>\n",
              "      <td>0</td>\n",
              "      <td>0</td>\n",
              "      <td>1</td>\n",
              "      <td>0</td>\n",
              "      <td>0</td>\n",
              "      <td>0</td>\n",
              "      <td>1</td>\n",
              "      <td>0</td>\n",
              "      <td>1</td>\n",
              "      <td>0</td>\n",
              "      <td>0</td>\n",
              "    </tr>\n",
              "    <tr>\n",
              "      <th>1803</th>\n",
              "      <td>0</td>\n",
              "      <td>0</td>\n",
              "      <td>0</td>\n",
              "      <td>0</td>\n",
              "      <td>36</td>\n",
              "      <td>0</td>\n",
              "      <td>0</td>\n",
              "      <td>1</td>\n",
              "      <td>1</td>\n",
              "      <td>1</td>\n",
              "      <td>1</td>\n",
              "      <td>0</td>\n",
              "      <td>1</td>\n",
              "      <td>1</td>\n",
              "      <td>53.10</td>\n",
              "      <td>1901.25</td>\n",
              "      <td>0</td>\n",
              "      <td>0</td>\n",
              "      <td>1</td>\n",
              "      <td>0</td>\n",
              "      <td>0</td>\n",
              "      <td>0</td>\n",
              "      <td>1</td>\n",
              "      <td>0</td>\n",
              "      <td>0</td>\n",
              "      <td>0</td>\n",
              "      <td>1</td>\n",
              "    </tr>\n",
              "  </tbody>\n",
              "</table>\n",
              "</div>"
            ],
            "text/plain": [
              "      gender  ...  PaymentMethod_Mailed check\n",
              "6429       1  ...                           0\n",
              "3280       1  ...                           0\n",
              "3261       0  ...                           0\n",
              "41         0  ...                           0\n",
              "1803       0  ...                           1\n",
              "\n",
              "[5 rows x 27 columns]"
            ]
          },
          "metadata": {},
          "execution_count": 67
        }
      ]
    },
    {
      "cell_type": "code",
      "metadata": {
        "id": "D27i8tTZl9Us"
      },
      "source": [
        "#We have to scale Tenure, TotalCharge and MonthlyCharges\n",
        "cols_to_scale = [\"tenure\",'TotalCharges','MonthlyCharges']\n",
        "\n",
        "from sklearn.preprocessing import MinMaxScaler\n",
        "scaler = MinMaxScaler()\n",
        "\n",
        "data2[cols_to_scale] = scaler.fit_transform(data2[cols_to_scale])\n"
      ],
      "execution_count": 68,
      "outputs": []
    },
    {
      "cell_type": "code",
      "metadata": {
        "colab": {
          "base_uri": "https://localhost:8080/",
          "height": 167
        },
        "id": "e1vVGKYUntCM",
        "outputId": "f5663179-f647-4970-c6b2-77520415fa97"
      },
      "source": [
        "data2.sample(2)"
      ],
      "execution_count": 69,
      "outputs": [
        {
          "output_type": "execute_result",
          "data": {
            "text/html": [
              "<div>\n",
              "<style scoped>\n",
              "    .dataframe tbody tr th:only-of-type {\n",
              "        vertical-align: middle;\n",
              "    }\n",
              "\n",
              "    .dataframe tbody tr th {\n",
              "        vertical-align: top;\n",
              "    }\n",
              "\n",
              "    .dataframe thead th {\n",
              "        text-align: right;\n",
              "    }\n",
              "</style>\n",
              "<table border=\"1\" class=\"dataframe\">\n",
              "  <thead>\n",
              "    <tr style=\"text-align: right;\">\n",
              "      <th></th>\n",
              "      <th>gender</th>\n",
              "      <th>SeniorCitizen</th>\n",
              "      <th>Partner</th>\n",
              "      <th>Dependents</th>\n",
              "      <th>tenure</th>\n",
              "      <th>PhoneService</th>\n",
              "      <th>MultipleLines</th>\n",
              "      <th>OnlineSecurity</th>\n",
              "      <th>OnlineBackup</th>\n",
              "      <th>DeviceProtection</th>\n",
              "      <th>TechSupport</th>\n",
              "      <th>StreamingTV</th>\n",
              "      <th>StreamingMovies</th>\n",
              "      <th>PaperlessBilling</th>\n",
              "      <th>MonthlyCharges</th>\n",
              "      <th>TotalCharges</th>\n",
              "      <th>Churn</th>\n",
              "      <th>InternetService_0</th>\n",
              "      <th>InternetService_DSL</th>\n",
              "      <th>InternetService_Fiber optic</th>\n",
              "      <th>Contract_Month-to-month</th>\n",
              "      <th>Contract_One year</th>\n",
              "      <th>Contract_Two year</th>\n",
              "      <th>PaymentMethod_Bank transfer (automatic)</th>\n",
              "      <th>PaymentMethod_Credit card (automatic)</th>\n",
              "      <th>PaymentMethod_Electronic check</th>\n",
              "      <th>PaymentMethod_Mailed check</th>\n",
              "    </tr>\n",
              "  </thead>\n",
              "  <tbody>\n",
              "    <tr>\n",
              "      <th>4020</th>\n",
              "      <td>1</td>\n",
              "      <td>1</td>\n",
              "      <td>1</td>\n",
              "      <td>0</td>\n",
              "      <td>1.000000</td>\n",
              "      <td>0</td>\n",
              "      <td>0</td>\n",
              "      <td>1</td>\n",
              "      <td>1</td>\n",
              "      <td>1</td>\n",
              "      <td>1</td>\n",
              "      <td>1</td>\n",
              "      <td>1</td>\n",
              "      <td>1</td>\n",
              "      <td>0.464677</td>\n",
              "      <td>0.522409</td>\n",
              "      <td>0</td>\n",
              "      <td>0</td>\n",
              "      <td>1</td>\n",
              "      <td>0</td>\n",
              "      <td>0</td>\n",
              "      <td>0</td>\n",
              "      <td>1</td>\n",
              "      <td>0</td>\n",
              "      <td>1</td>\n",
              "      <td>0</td>\n",
              "      <td>0</td>\n",
              "    </tr>\n",
              "    <tr>\n",
              "      <th>6820</th>\n",
              "      <td>0</td>\n",
              "      <td>0</td>\n",
              "      <td>1</td>\n",
              "      <td>0</td>\n",
              "      <td>0.816901</td>\n",
              "      <td>1</td>\n",
              "      <td>1</td>\n",
              "      <td>0</td>\n",
              "      <td>0</td>\n",
              "      <td>1</td>\n",
              "      <td>1</td>\n",
              "      <td>1</td>\n",
              "      <td>0</td>\n",
              "      <td>0</td>\n",
              "      <td>0.747264</td>\n",
              "      <td>0.619398</td>\n",
              "      <td>0</td>\n",
              "      <td>0</td>\n",
              "      <td>0</td>\n",
              "      <td>1</td>\n",
              "      <td>1</td>\n",
              "      <td>0</td>\n",
              "      <td>0</td>\n",
              "      <td>0</td>\n",
              "      <td>0</td>\n",
              "      <td>1</td>\n",
              "      <td>0</td>\n",
              "    </tr>\n",
              "  </tbody>\n",
              "</table>\n",
              "</div>"
            ],
            "text/plain": [
              "      gender  ...  PaymentMethod_Mailed check\n",
              "4020       1  ...                           0\n",
              "6820       0  ...                           0\n",
              "\n",
              "[2 rows x 27 columns]"
            ]
          },
          "metadata": {},
          "execution_count": 69
        }
      ]
    },
    {
      "cell_type": "markdown",
      "metadata": {
        "id": "Mpb2W2pdoC14"
      },
      "source": [
        "## **Model Training**"
      ]
    },
    {
      "cell_type": "code",
      "metadata": {
        "id": "M1b-Ivq9oPoT"
      },
      "source": [
        "#x_data is our features for model and y_data is target\n",
        "x_data = data2.drop('Churn',axis='columns')\n",
        "y_data= data2['Churn']"
      ],
      "execution_count": 70,
      "outputs": []
    },
    {
      "cell_type": "code",
      "metadata": {
        "id": "7pZyy958puDb"
      },
      "source": [
        "from sklearn.model_selection import train_test_split\n",
        "x_train,x_test,y_train,y_test = train_test_split(x_data,y_data,test_size = 0.2,random_state = 5)"
      ],
      "execution_count": 71,
      "outputs": []
    },
    {
      "cell_type": "code",
      "metadata": {
        "colab": {
          "base_uri": "https://localhost:8080/"
        },
        "id": "J90RTrHyqK90",
        "outputId": "b1f31d14-548f-4f1a-cf31-cc4b0f70a735"
      },
      "source": [
        "x_train.shape"
      ],
      "execution_count": 72,
      "outputs": [
        {
          "output_type": "execute_result",
          "data": {
            "text/plain": [
              "(5625, 26)"
            ]
          },
          "metadata": {},
          "execution_count": 72
        }
      ]
    },
    {
      "cell_type": "code",
      "metadata": {
        "colab": {
          "base_uri": "https://localhost:8080/"
        },
        "id": "5_OCXuHHpypB",
        "outputId": "d687fd02-b949-4f7a-e708-7a99f131f6ec"
      },
      "source": [
        "import tensorflow as tf\n",
        "from tensorflow import keras\n",
        "\n",
        "model = keras.Sequential([\n",
        "                          keras.layers.Dense(13,input_shape=(26,),activation='relu'),\n",
        "                          keras.layers.Dense(7,activation='relu'),\n",
        "                          keras.layers.Dense(1,activation='sigmoid')\n",
        "])\n",
        "\n",
        "model.compile(optimizer='adam',\n",
        "              loss = 'binary_crossentropy',\n",
        "              metrics=['accuracy'])\n",
        "\n",
        "model.fit(x_train,y_train,epochs =10)"
      ],
      "execution_count": 73,
      "outputs": [
        {
          "output_type": "stream",
          "name": "stdout",
          "text": [
            "Epoch 1/10\n",
            "176/176 [==============================] - 1s 1ms/step - loss: 0.5544 - accuracy: 0.6953\n",
            "Epoch 2/10\n",
            "176/176 [==============================] - 0s 2ms/step - loss: 0.4415 - accuracy: 0.7868\n",
            "Epoch 3/10\n",
            "176/176 [==============================] - 0s 2ms/step - loss: 0.4283 - accuracy: 0.7924\n",
            "Epoch 4/10\n",
            "176/176 [==============================] - 0s 2ms/step - loss: 0.4212 - accuracy: 0.7957\n",
            "Epoch 5/10\n",
            "176/176 [==============================] - 0s 2ms/step - loss: 0.4169 - accuracy: 0.8002\n",
            "Epoch 6/10\n",
            "176/176 [==============================] - 0s 2ms/step - loss: 0.4139 - accuracy: 0.8032\n",
            "Epoch 7/10\n",
            "176/176 [==============================] - 0s 2ms/step - loss: 0.4130 - accuracy: 0.8037\n",
            "Epoch 8/10\n",
            "176/176 [==============================] - 0s 2ms/step - loss: 0.4114 - accuracy: 0.8062\n",
            "Epoch 9/10\n",
            "176/176 [==============================] - 0s 2ms/step - loss: 0.4106 - accuracy: 0.8057\n",
            "Epoch 10/10\n",
            "176/176 [==============================] - 0s 2ms/step - loss: 0.4106 - accuracy: 0.8060\n"
          ]
        },
        {
          "output_type": "execute_result",
          "data": {
            "text/plain": [
              "<keras.callbacks.History at 0x7fc25d354b50>"
            ]
          },
          "metadata": {},
          "execution_count": 73
        }
      ]
    },
    {
      "cell_type": "code",
      "metadata": {
        "colab": {
          "base_uri": "https://localhost:8080/"
        },
        "id": "BvUoOzOQrBp1",
        "outputId": "e43e47cd-8ed3-4065-f58b-6a77b323c475"
      },
      "source": [
        "#In 10 epochs our accuracy is 80%. we will try to improve it via increasing the epochs\n",
        "model = keras.Sequential([\n",
        "                          keras.layers.Dense(13,input_shape=(26,),activation='relu'),\n",
        "                          keras.layers.Dense(7,activation='relu'),\n",
        "                          keras.layers.Dense(1,activation='sigmoid')\n",
        "])\n",
        "\n",
        "model.compile(optimizer='adam',\n",
        "              loss = 'binary_crossentropy',\n",
        "              metrics=['accuracy'])\n",
        "\n",
        "model.fit(x_train,y_train,epochs =100)"
      ],
      "execution_count": 74,
      "outputs": [
        {
          "output_type": "stream",
          "name": "stdout",
          "text": [
            "Epoch 1/100\n",
            "176/176 [==============================] - 1s 2ms/step - loss: 0.6345 - accuracy: 0.6542\n",
            "Epoch 2/100\n",
            "176/176 [==============================] - 0s 2ms/step - loss: 0.4724 - accuracy: 0.7776\n",
            "Epoch 3/100\n",
            "176/176 [==============================] - 0s 2ms/step - loss: 0.4336 - accuracy: 0.7897\n",
            "Epoch 4/100\n",
            "176/176 [==============================] - 0s 2ms/step - loss: 0.4221 - accuracy: 0.7989\n",
            "Epoch 5/100\n",
            "176/176 [==============================] - 0s 2ms/step - loss: 0.4172 - accuracy: 0.8044\n",
            "Epoch 6/100\n",
            "176/176 [==============================] - 0s 2ms/step - loss: 0.4140 - accuracy: 0.8046\n",
            "Epoch 7/100\n",
            "176/176 [==============================] - 0s 2ms/step - loss: 0.4119 - accuracy: 0.8052\n",
            "Epoch 8/100\n",
            "176/176 [==============================] - 0s 2ms/step - loss: 0.4112 - accuracy: 0.8050\n",
            "Epoch 9/100\n",
            "176/176 [==============================] - 0s 2ms/step - loss: 0.4095 - accuracy: 0.8064\n",
            "Epoch 10/100\n",
            "176/176 [==============================] - 0s 2ms/step - loss: 0.4083 - accuracy: 0.8085\n",
            "Epoch 11/100\n",
            "176/176 [==============================] - 0s 2ms/step - loss: 0.4079 - accuracy: 0.8069\n",
            "Epoch 12/100\n",
            "176/176 [==============================] - 0s 2ms/step - loss: 0.4069 - accuracy: 0.8084\n",
            "Epoch 13/100\n",
            "176/176 [==============================] - 0s 2ms/step - loss: 0.4056 - accuracy: 0.8094\n",
            "Epoch 14/100\n",
            "176/176 [==============================] - 0s 2ms/step - loss: 0.4053 - accuracy: 0.8075\n",
            "Epoch 15/100\n",
            "176/176 [==============================] - 0s 2ms/step - loss: 0.4047 - accuracy: 0.8116\n",
            "Epoch 16/100\n",
            "176/176 [==============================] - 0s 2ms/step - loss: 0.4047 - accuracy: 0.8092\n",
            "Epoch 17/100\n",
            "176/176 [==============================] - 0s 2ms/step - loss: 0.4044 - accuracy: 0.8089\n",
            "Epoch 18/100\n",
            "176/176 [==============================] - 0s 2ms/step - loss: 0.4030 - accuracy: 0.8098\n",
            "Epoch 19/100\n",
            "176/176 [==============================] - 0s 1ms/step - loss: 0.4033 - accuracy: 0.8114\n",
            "Epoch 20/100\n",
            "176/176 [==============================] - 0s 2ms/step - loss: 0.4023 - accuracy: 0.8110\n",
            "Epoch 21/100\n",
            "176/176 [==============================] - 0s 2ms/step - loss: 0.4024 - accuracy: 0.8132\n",
            "Epoch 22/100\n",
            "176/176 [==============================] - 0s 2ms/step - loss: 0.4016 - accuracy: 0.8128\n",
            "Epoch 23/100\n",
            "176/176 [==============================] - 0s 2ms/step - loss: 0.4010 - accuracy: 0.8133\n",
            "Epoch 24/100\n",
            "176/176 [==============================] - 0s 2ms/step - loss: 0.4002 - accuracy: 0.8162\n",
            "Epoch 25/100\n",
            "176/176 [==============================] - 0s 2ms/step - loss: 0.4007 - accuracy: 0.8126\n",
            "Epoch 26/100\n",
            "176/176 [==============================] - 0s 2ms/step - loss: 0.4001 - accuracy: 0.8160\n",
            "Epoch 27/100\n",
            "176/176 [==============================] - 0s 2ms/step - loss: 0.3993 - accuracy: 0.8155\n",
            "Epoch 28/100\n",
            "176/176 [==============================] - 0s 2ms/step - loss: 0.3992 - accuracy: 0.8139\n",
            "Epoch 29/100\n",
            "176/176 [==============================] - 0s 2ms/step - loss: 0.3989 - accuracy: 0.8158\n",
            "Epoch 30/100\n",
            "176/176 [==============================] - 0s 2ms/step - loss: 0.3985 - accuracy: 0.8148\n",
            "Epoch 31/100\n",
            "176/176 [==============================] - 0s 2ms/step - loss: 0.3984 - accuracy: 0.8133\n",
            "Epoch 32/100\n",
            "176/176 [==============================] - 0s 2ms/step - loss: 0.3978 - accuracy: 0.8181\n",
            "Epoch 33/100\n",
            "176/176 [==============================] - 0s 2ms/step - loss: 0.3970 - accuracy: 0.8156\n",
            "Epoch 34/100\n",
            "176/176 [==============================] - 0s 2ms/step - loss: 0.3969 - accuracy: 0.8151\n",
            "Epoch 35/100\n",
            "176/176 [==============================] - 0s 2ms/step - loss: 0.3969 - accuracy: 0.8187\n",
            "Epoch 36/100\n",
            "176/176 [==============================] - 0s 2ms/step - loss: 0.3968 - accuracy: 0.8194\n",
            "Epoch 37/100\n",
            "176/176 [==============================] - 0s 2ms/step - loss: 0.3965 - accuracy: 0.8162\n",
            "Epoch 38/100\n",
            "176/176 [==============================] - 0s 2ms/step - loss: 0.3957 - accuracy: 0.8180\n",
            "Epoch 39/100\n",
            "176/176 [==============================] - 0s 2ms/step - loss: 0.3957 - accuracy: 0.8201\n",
            "Epoch 40/100\n",
            "176/176 [==============================] - 0s 2ms/step - loss: 0.3948 - accuracy: 0.8204\n",
            "Epoch 41/100\n",
            "176/176 [==============================] - 0s 2ms/step - loss: 0.3946 - accuracy: 0.8188\n",
            "Epoch 42/100\n",
            "176/176 [==============================] - 0s 2ms/step - loss: 0.3945 - accuracy: 0.8183\n",
            "Epoch 43/100\n",
            "176/176 [==============================] - 0s 2ms/step - loss: 0.3940 - accuracy: 0.8190\n",
            "Epoch 44/100\n",
            "176/176 [==============================] - 0s 2ms/step - loss: 0.3936 - accuracy: 0.8199\n",
            "Epoch 45/100\n",
            "176/176 [==============================] - 0s 2ms/step - loss: 0.3931 - accuracy: 0.8215\n",
            "Epoch 46/100\n",
            "176/176 [==============================] - 0s 2ms/step - loss: 0.3931 - accuracy: 0.8231\n",
            "Epoch 47/100\n",
            "176/176 [==============================] - 0s 2ms/step - loss: 0.3924 - accuracy: 0.8188\n",
            "Epoch 48/100\n",
            "176/176 [==============================] - 0s 2ms/step - loss: 0.3924 - accuracy: 0.8212\n",
            "Epoch 49/100\n",
            "176/176 [==============================] - 0s 2ms/step - loss: 0.3930 - accuracy: 0.8204\n",
            "Epoch 50/100\n",
            "176/176 [==============================] - 0s 2ms/step - loss: 0.3921 - accuracy: 0.8213\n",
            "Epoch 51/100\n",
            "176/176 [==============================] - 0s 2ms/step - loss: 0.3916 - accuracy: 0.8192\n",
            "Epoch 52/100\n",
            "176/176 [==============================] - 0s 2ms/step - loss: 0.3907 - accuracy: 0.8226\n",
            "Epoch 53/100\n",
            "176/176 [==============================] - 0s 1ms/step - loss: 0.3901 - accuracy: 0.8231\n",
            "Epoch 54/100\n",
            "176/176 [==============================] - 0s 2ms/step - loss: 0.3912 - accuracy: 0.8222\n",
            "Epoch 55/100\n",
            "176/176 [==============================] - 0s 2ms/step - loss: 0.3904 - accuracy: 0.8215\n",
            "Epoch 56/100\n",
            "176/176 [==============================] - 0s 2ms/step - loss: 0.3901 - accuracy: 0.8224\n",
            "Epoch 57/100\n",
            "176/176 [==============================] - 0s 2ms/step - loss: 0.3894 - accuracy: 0.8228\n",
            "Epoch 58/100\n",
            "176/176 [==============================] - 0s 2ms/step - loss: 0.3893 - accuracy: 0.8222\n",
            "Epoch 59/100\n",
            "176/176 [==============================] - 0s 2ms/step - loss: 0.3901 - accuracy: 0.8220\n",
            "Epoch 60/100\n",
            "176/176 [==============================] - 0s 2ms/step - loss: 0.3890 - accuracy: 0.8220\n",
            "Epoch 61/100\n",
            "176/176 [==============================] - 0s 2ms/step - loss: 0.3895 - accuracy: 0.8213\n",
            "Epoch 62/100\n",
            "176/176 [==============================] - 0s 2ms/step - loss: 0.3885 - accuracy: 0.8226\n",
            "Epoch 63/100\n",
            "176/176 [==============================] - 0s 2ms/step - loss: 0.3877 - accuracy: 0.8228\n",
            "Epoch 64/100\n",
            "176/176 [==============================] - 0s 2ms/step - loss: 0.3880 - accuracy: 0.8224\n",
            "Epoch 65/100\n",
            "176/176 [==============================] - 0s 2ms/step - loss: 0.3874 - accuracy: 0.8247\n",
            "Epoch 66/100\n",
            "176/176 [==============================] - 0s 2ms/step - loss: 0.3876 - accuracy: 0.8247\n",
            "Epoch 67/100\n",
            "176/176 [==============================] - 0s 2ms/step - loss: 0.3869 - accuracy: 0.8238\n",
            "Epoch 68/100\n",
            "176/176 [==============================] - 0s 2ms/step - loss: 0.3872 - accuracy: 0.8233\n",
            "Epoch 69/100\n",
            "176/176 [==============================] - 0s 2ms/step - loss: 0.3870 - accuracy: 0.8242\n",
            "Epoch 70/100\n",
            "176/176 [==============================] - 0s 2ms/step - loss: 0.3874 - accuracy: 0.8242\n",
            "Epoch 71/100\n",
            "176/176 [==============================] - 0s 2ms/step - loss: 0.3864 - accuracy: 0.8229\n",
            "Epoch 72/100\n",
            "176/176 [==============================] - 0s 2ms/step - loss: 0.3868 - accuracy: 0.8224\n",
            "Epoch 73/100\n",
            "176/176 [==============================] - 0s 2ms/step - loss: 0.3859 - accuracy: 0.8244\n",
            "Epoch 74/100\n",
            "176/176 [==============================] - 0s 2ms/step - loss: 0.3862 - accuracy: 0.8228\n",
            "Epoch 75/100\n",
            "176/176 [==============================] - 0s 2ms/step - loss: 0.3865 - accuracy: 0.8224\n",
            "Epoch 76/100\n",
            "176/176 [==============================] - 0s 2ms/step - loss: 0.3851 - accuracy: 0.8238\n",
            "Epoch 77/100\n",
            "176/176 [==============================] - 0s 2ms/step - loss: 0.3858 - accuracy: 0.8238\n",
            "Epoch 78/100\n",
            "176/176 [==============================] - 0s 2ms/step - loss: 0.3851 - accuracy: 0.8240\n",
            "Epoch 79/100\n",
            "176/176 [==============================] - 0s 2ms/step - loss: 0.3860 - accuracy: 0.8251\n",
            "Epoch 80/100\n",
            "176/176 [==============================] - 0s 2ms/step - loss: 0.3845 - accuracy: 0.8235\n",
            "Epoch 81/100\n",
            "176/176 [==============================] - 0s 2ms/step - loss: 0.3846 - accuracy: 0.8233\n",
            "Epoch 82/100\n",
            "176/176 [==============================] - 0s 2ms/step - loss: 0.3839 - accuracy: 0.8261\n",
            "Epoch 83/100\n",
            "176/176 [==============================] - 0s 2ms/step - loss: 0.3838 - accuracy: 0.8222\n",
            "Epoch 84/100\n",
            "176/176 [==============================] - 0s 2ms/step - loss: 0.3847 - accuracy: 0.8220\n",
            "Epoch 85/100\n",
            "176/176 [==============================] - 0s 2ms/step - loss: 0.3844 - accuracy: 0.8240\n",
            "Epoch 86/100\n",
            "176/176 [==============================] - 0s 2ms/step - loss: 0.3838 - accuracy: 0.8229\n",
            "Epoch 87/100\n",
            "176/176 [==============================] - 0s 2ms/step - loss: 0.3833 - accuracy: 0.8240\n",
            "Epoch 88/100\n",
            "176/176 [==============================] - 0s 2ms/step - loss: 0.3835 - accuracy: 0.8254\n",
            "Epoch 89/100\n",
            "176/176 [==============================] - 0s 2ms/step - loss: 0.3832 - accuracy: 0.8224\n",
            "Epoch 90/100\n",
            "176/176 [==============================] - 0s 2ms/step - loss: 0.3826 - accuracy: 0.8224\n",
            "Epoch 91/100\n",
            "176/176 [==============================] - 0s 2ms/step - loss: 0.3831 - accuracy: 0.8263\n",
            "Epoch 92/100\n",
            "176/176 [==============================] - 0s 2ms/step - loss: 0.3830 - accuracy: 0.8235\n",
            "Epoch 93/100\n",
            "176/176 [==============================] - 0s 2ms/step - loss: 0.3833 - accuracy: 0.8258\n",
            "Epoch 94/100\n",
            "176/176 [==============================] - 0s 2ms/step - loss: 0.3820 - accuracy: 0.8252\n",
            "Epoch 95/100\n",
            "176/176 [==============================] - 0s 2ms/step - loss: 0.3825 - accuracy: 0.8238\n",
            "Epoch 96/100\n",
            "176/176 [==============================] - 0s 2ms/step - loss: 0.3823 - accuracy: 0.8233\n",
            "Epoch 97/100\n",
            "176/176 [==============================] - 0s 2ms/step - loss: 0.3823 - accuracy: 0.8249\n",
            "Epoch 98/100\n",
            "176/176 [==============================] - 0s 2ms/step - loss: 0.3819 - accuracy: 0.8236\n",
            "Epoch 99/100\n",
            "176/176 [==============================] - 0s 2ms/step - loss: 0.3821 - accuracy: 0.8247\n",
            "Epoch 100/100\n",
            "176/176 [==============================] - 0s 2ms/step - loss: 0.3821 - accuracy: 0.8220\n"
          ]
        },
        {
          "output_type": "execute_result",
          "data": {
            "text/plain": [
              "<keras.callbacks.History at 0x7fc25d2f2850>"
            ]
          },
          "metadata": {},
          "execution_count": 74
        }
      ]
    },
    {
      "cell_type": "code",
      "metadata": {
        "id": "53Bv9ORbsS-A"
      },
      "source": [
        "#we have seen after 50 epochs our accuracy is 81.35% and after 100 the accuracy is 81.7%. \n",
        "#So, after a point, always increasing the epochs do not improve accuracy.\n",
        "#We try with some other combinations of layers \n",
        "model = keras.Sequential([\n",
        "                          keras.layers.Dense(13,input_shape=(26,),activation='relu'),\n",
        "                          keras.layers.Dense(7,activation='relu'),\n",
        "                          keras.layers.Dense(4,activation='relu'),\n",
        "                          \n",
        "                          keras.layers.Dense(1,activation='sigmoid')\n",
        "])\n",
        "\n",
        "model.compile(optimizer='adam',\n",
        "              loss = 'binary_crossentropy',\n",
        "              metrics=['accuracy'])\n",
        "\n",
        "model.fit(x_train,y_train,epochs =50)"
      ],
      "execution_count": null,
      "outputs": []
    },
    {
      "cell_type": "code",
      "metadata": {
        "id": "jCFEgq0ctGXX"
      },
      "source": [
        "#we have seen after 50 epochs our accuracy is approx 81.8%.\n",
        "#So,every time increasing the stack of hidden layers do not improve accuracy.\n",
        "model = keras.Sequential([\n",
        "                          keras.layers.Dense(13,input_shape=(26,),activation='relu'),\n",
        "                          keras.layers.Dense(7,activation='relu'),\n",
        "                          keras.layers.Dense(1,activation='sigmoid')\n",
        "])\n",
        "\n",
        "model.compile(optimizer='adam',\n",
        "              loss = 'binary_crossentropy',\n",
        "              metrics=['accuracy'])\n",
        "\n",
        "model.fit(x_train,y_train,epochs =50)"
      ],
      "execution_count": null,
      "outputs": []
    },
    {
      "cell_type": "code",
      "metadata": {
        "colab": {
          "base_uri": "https://localhost:8080/"
        },
        "id": "fCItaNxyzykE",
        "outputId": "12d6bf07-f95b-4ad1-d90d-afd987fa9be5"
      },
      "source": [
        "yp = model.predict(x_test)# it will returns the value in range 0.0 to 1.0\n",
        "yp[:4]"
      ],
      "execution_count": 82,
      "outputs": [
        {
          "output_type": "execute_result",
          "data": {
            "text/plain": [
              "array([[0.32210368],\n",
              "       [0.28805947],\n",
              "       [0.01013857],\n",
              "       [0.716274  ]], dtype=float32)"
            ]
          },
          "metadata": {},
          "execution_count": 82
        }
      ]
    },
    {
      "cell_type": "code",
      "metadata": {
        "id": "spof_ZEj0Ama"
      },
      "source": [
        "#if value is greater  than 0.5 that it belongs to 1 otherwise 0.\n",
        "y_pred =[]\n",
        "for element in yp:\n",
        "  if element>0.5:\n",
        "    y_pred.append(1)\n",
        "  else:\n",
        "    y_pred.append(0)"
      ],
      "execution_count": 83,
      "outputs": []
    },
    {
      "cell_type": "code",
      "metadata": {
        "colab": {
          "base_uri": "https://localhost:8080/"
        },
        "id": "qBxuURGm2yJf",
        "outputId": "bc520f08-a374-4066-8a0c-b314976b208b"
      },
      "source": [
        "for i,j in zip(y_test[:5],y_pred[:5]):\n",
        "  print(f' true lable:{i} and predicted lable:{j} ')"
      ],
      "execution_count": 86,
      "outputs": [
        {
          "output_type": "stream",
          "name": "stdout",
          "text": [
            " true lable:0 and predicted lable:0 \n",
            " true lable:0 and predicted lable:0 \n",
            " true lable:1 and predicted lable:0 \n",
            " true lable:1 and predicted lable:1 \n",
            " true lable:1 and predicted lable:1 \n"
          ]
        }
      ]
    },
    {
      "cell_type": "code",
      "metadata": {
        "colab": {
          "base_uri": "https://localhost:8080/"
        },
        "id": "U2SOgRS42zfX",
        "outputId": "32fd1bd3-3dac-4ac6-b918-7f9cc480b822"
      },
      "source": [
        "from sklearn.metrics import confusion_matrix,classification_report\n",
        "print(classification_report(y_test,y_pred))"
      ],
      "execution_count": 87,
      "outputs": [
        {
          "output_type": "stream",
          "name": "stdout",
          "text": [
            "              precision    recall  f1-score   support\n",
            "\n",
            "           0       0.82      0.89      0.85       999\n",
            "           1       0.67      0.51      0.58       408\n",
            "\n",
            "    accuracy                           0.78      1407\n",
            "   macro avg       0.74      0.70      0.72      1407\n",
            "weighted avg       0.77      0.78      0.77      1407\n",
            "\n"
          ]
        }
      ]
    },
    {
      "cell_type": "code",
      "metadata": {
        "colab": {
          "base_uri": "https://localhost:8080/",
          "height": 442
        },
        "id": "bWxKZ9d13YQd",
        "outputId": "ced096a7-6226-48fa-f3b7-36e158836023"
      },
      "source": [
        "import seaborn as sns\n",
        "import matplotlib.pyplot as plt\n",
        "cm = tf.math.confusion_matrix(labels=y_test,predictions=y_pred)\n",
        "\n",
        "plt.figure(figsize = (10,7))\n",
        "sns.heatmap(cm,annot=True,fmt='d')\n",
        "plt.xlabel('Predicted')\n",
        "plt.ylabel('Truth')\n",
        "plt.show()"
      ],
      "execution_count": 89,
      "outputs": [
        {
          "output_type": "display_data",
          "data": {
            "image/png": "[encoded data removed]",
            "text/plain": [
              "<Figure size 720x504 with 2 Axes>"
            ]
          },
          "metadata": {
            "needs_background": "light"
          }
        }
      ]
    },
    {
      "cell_type": "code",
      "metadata": {
        "id": "gvOcWNFm3bZm"
      },
      "source": [
        ""
      ],
      "execution_count": null,
      "outputs": []
    }
  ]
}